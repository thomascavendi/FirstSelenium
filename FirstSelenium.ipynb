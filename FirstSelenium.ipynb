{
 "cells": [
  {
   "cell_type": "code",
   "execution_count": null,
   "id": "08748cc6",
   "metadata": {},
   "outputs": [],
   "source": []
  },
  {
   "cell_type": "code",
   "execution_count": 1,
   "id": "e77e68b3",
   "metadata": {
    "scrolled": false
   },
   "outputs": [
    {
     "name": "stdout",
     "output_type": "stream",
     "text": [
      "Requirement already satisfied: selenium in c:\\programdata\\anaconda3\\lib\\site-packages (3.141.0)\n",
      "Requirement already satisfied: urllib3 in c:\\programdata\\anaconda3\\lib\\site-packages (from selenium) (1.26.4)\n",
      "\n",
      "This SQLite Database Model is Easy and Ready for your Python Projects! 872 vues il y a 4 jours\n",
      "Create A Web Scraper Class in Python and requests-html 1,7 k vues il y a 2 semaines\n",
      "Put This In All Your Python Projects Now 1,8 k vues il y a 2 semaines\n",
      "Scraping Data from TABLES like these is easy with Python 1,6 k vues il y a 2 semaines\n",
      "Scrapy to Database - SQLite3 Pipeline with Python 1,5 k vues il y a 3 semaines\n",
      "Learn Scrapy with a project based example 2 k vues il y a 4 semaines\n",
      "Are You Using a Database Yet? Python and SQLite3 2 k vues il y a 1 mois\n",
      "Hidden APIs with Scrapy - easy JSON data extraction 3,1 k vues il y a 1 mois\n",
      "What You See ISN'T What You Get When Web Scraping? 1,2 k vues il y a 1 mois\n",
      "Always Check for the Hidden API when Web Scraping 5,3 k vues il y a 1 mois\n",
      "I Think Scrapy Is Easier Than BS4 4,2 k vues il y a 2 mois\n",
      "Lightning Quick Web Scraping Tips 1,9 k vues il y a 2 mois\n",
      "Automate Excel Work with Python and Pandas 5,7 k vues il y a 3 mois\n",
      "Working With APIs in Python - Pagination and Data Extraction 4,5 k vues il y a 3 mois\n",
      "How I Create Shopify Private Apps with Python 3,2 k vues il y a 3 mois\n",
      "Create Your Own Scraper API with FastAPI and Python 3,5 k vues il y a 3 mois\n",
      "Web Scraping with AIOHTTP and Python 3,8 k vues il y a 4 mois\n",
      "Scrapy From one Script: ProcessCrawler 2,8 k vues il y a 4 mois\n",
      "Web Scraping Project: Save Shopify Products to Database 2,9 k vues il y a 4 mois\n",
      "Improve Your Web Scraping with these Tips 3,4 k vues il y a 4 mois\n",
      "Scrape LIVE scores - No BeautifulSoup or Selenium NEEDED! 4,1 k vues il y a 5 mois\n",
      "Spider Arguments with Scrapy & Python 1,8 k vues il y a 5 mois\n",
      "Crawl and Follow links with SCRAPY - Web Scraping with Python Project 8,3 k vues il y a 5 mois\n",
      "Slow Web Scraper? Try this with ASYNC and Requests-html 3,9 k vues il y a 5 mois\n",
      "Python Web Scraping LIVE 4! QnA - Chat - Hangout 1,3 k vues Diffusé il y a 5 mois\n",
      "Python Web Scraping - Append to CSV, Cleaning Data, Requests HTML 2,7 k vues il y a 6 mois\n",
      "Weekly Web Scraper Ep#3 - Improving Code with CSS Selectors, BS4 and Itertools 1,9 k vues il y a 6 mois\n",
      "Basic ASYNC Web Scraping Part2 - Grequests Example Python Project 1,6 k vues il y a 6 mois\n",
      "Weekly Web Scraping Ep#2 - Amazon Product Reviews 2,5 k vues il y a 6 mois\n",
      "All the LINKS! Scraping Sitemaps 3,1 k vues il y a 6 mois\n"
     ]
    }
   ],
   "source": [
    "!pip install selenium\n",
    "\n",
    "# import\n",
    "from selenium import webdriver\n",
    "from selenium.webdriver.firefox.options import Options\n",
    "\n",
    "# driver = webdriver.Chrome()\n",
    "driver = webdriver.Chrome(executable_path=\"chromedriver.exe\")\n",
    "\n",
    "url = \"https://www.youtube.com/c/JohnWatsonRooney/videos\"\n",
    "driver.get(url)\n",
    "\n",
    "# xpath bouton \"Accepter\"\n",
    "# //*[@id=\"yDmH0d\"]/c-wiz/div/div/div/div[2]/div[1]/div[4]/form/div[1]/div/button\n",
    "\n",
    "# click bouton \"Accepter\"\n",
    "driver.find_element_by_xpath(\".//*[@id='yDmH0d']/c-wiz/div/div/div/div[2]/div[1]/div[4]/form/div[1]/div/button\").click()\n",
    "\n",
    "# xpath videos :\n",
    "#//*[@id=\"items\"]/ytd-grid-video-renderer\n",
    "\n",
    "videos = driver.find_elements_by_xpath('//*[@id=\"items\"]/ytd-grid-video-renderer')\n",
    "\n",
    "print(\"\")\n",
    "\n",
    "for video in videos:\n",
    "    title = video.find_element_by_xpath('.//*[@id=\"video-title\"]').text\n",
    "    view = video.find_element_by_xpath('.//*[@id=\"metadata-line\"]/span[1]').text\n",
    "    when = video.find_element_by_xpath('.//*[@id=\"metadata-line\"]/span[2]').text\n",
    "    print(title, view, when)\n",
    "\n",
    "# driver.quit()\n"
   ]
  },
  {
   "cell_type": "code",
   "execution_count": null,
   "id": "d71a26e2",
   "metadata": {},
   "outputs": [],
   "source": []
  },
  {
   "cell_type": "code",
   "execution_count": null,
   "id": "7eab5e04",
   "metadata": {},
   "outputs": [],
   "source": []
  }
 ],
 "metadata": {
  "kernelspec": {
   "display_name": "Python 3",
   "language": "python",
   "name": "python3"
  },
  "language_info": {
   "codemirror_mode": {
    "name": "ipython",
    "version": 3
   },
   "file_extension": ".py",
   "mimetype": "text/x-python",
   "name": "python",
   "nbconvert_exporter": "python",
   "pygments_lexer": "ipython3",
   "version": "3.8.8"
  }
 },
 "nbformat": 4,
 "nbformat_minor": 5
}
